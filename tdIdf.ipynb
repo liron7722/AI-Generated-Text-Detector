{
  "nbformat": 4,
  "nbformat_minor": 0,
  "metadata": {
    "colab": {
      "provenance": [],
      "authorship_tag": "ABX9TyNWnwC2WRL5IpJhBFaxEL1t",
      "include_colab_link": true
    },
    "kernelspec": {
      "name": "python3",
      "display_name": "Python 3"
    },
    "language_info": {
      "name": "python"
    }
  },
  "cells": [
    {
      "cell_type": "markdown",
      "metadata": {
        "id": "view-in-github",
        "colab_type": "text"
      },
      "source": [
        "<a href=\"https://colab.research.google.com/github/liron7722/AI-Generated-Text-Detector/blob/Production/tdIdf.ipynb\" target=\"_parent\"><img src=\"https://colab.research.google.com/assets/colab-badge.svg\" alt=\"Open In Colab\"/></a>"
      ]
    },
    {
      "cell_type": "code",
      "source": [
        "import pandas as pd\n",
        "from sklearn.feature_extraction.text import TfidfVectorizer\n",
        "\n",
        "# Load CSV\n",
        "df = pd.read_csv('https://uc730d9484c996374ded5251c19a.dl.dropboxusercontent.com/cd/0/get/Cf-4t8hV3cNA48c-apaehUhFlzd6AF2Et3qaxMown3Kdd3TndMCXU5fuIrZcnVbWIweK-nR7M2AZUgT48yMpcVALQhFyth7IXBQFcYtu_zwhq4r5qek1R1thC-IXL5yBxQcMCClEkJi2UEsdoDw9sBiAslzEJJ-ZXhfl7QquStpOKQ/file?_download_id=32597468389495576265761807982472667737099252508555987932012252364&_log_download_success=1#')\n",
        "\n",
        "# Calculate TF-IDF\n",
        "vectorizer = TfidfVectorizer(max_features=250, ngram_range=(2,4))\n",
        "tfidf_matrix = vectorizer.fit_transform(df['text'])\n",
        "\n",
        "# Convert to DataFrame\n",
        "tfidf_df = pd.DataFrame(\n",
        "    tfidf_matrix.toarray(),\n",
        "    columns=vectorizer.get_feature_names_out()\n",
        ")\n",
        "\n",
        "# Save to CSV\n",
        "tfidf_df.to_csv('tfidf.csv', index=False)"
      ],
      "metadata": {
        "id": "OajUDfdvLXuU"
      },
      "execution_count": 1,
      "outputs": []
    }
  ]
}