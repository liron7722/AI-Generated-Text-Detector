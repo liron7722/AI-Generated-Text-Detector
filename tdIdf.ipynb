{
  "nbformat": 4,
  "nbformat_minor": 0,
  "metadata": {
    "colab": {
      "provenance": [],
      "authorship_tag": "ABX9TyN9x41aVCK6pWXgDmNbRW7S",
      "include_colab_link": true
    },
    "kernelspec": {
      "name": "python3",
      "display_name": "Python 3"
    },
    "language_info": {
      "name": "python"
    }
  },
  "cells": [
    {
      "cell_type": "markdown",
      "metadata": {
        "id": "view-in-github",
        "colab_type": "text"
      },
      "source": [
        "<a href=\"https://colab.research.google.com/github/liron7722/AI-Generated-Text-Detector/blob/Production/tdIdf.ipynb\" target=\"_parent\"><img src=\"https://colab.research.google.com/assets/colab-badge.svg\" alt=\"Open In Colab\"/></a>"
      ]
    },
    {
      "cell_type": "code",
      "source": [
        "import pandas as pd\n",
        "from sklearn.feature_extraction.text import TfidfVectorizer\n",
        "\n",
        "# Load CSV\n",
        "df = pd.read_parquet('https://uc5cdb122338ef7262b1375676d3.dl.dropboxusercontent.com/cd/0/get/Cf4cRQyHycNLBum2ODU7nYWbAkTDr_tJeFErHL-bSNk27wrDe3N1NNFNMlUIfjTmRW_AMhfG9uOEcpcMz9ddb7yYNQRZhs6LvdUNeLTumc0PiDE9Eg98AS52yK1Q2mdq-2S0nggsgwLl0oxICQifYzz9FaJbco2iQ88uuN6YhR2UYw/file?_download_id=83887963961934459430746542227137228960885289283044250126663787175&_log_download_success=1#')\n",
        "\n",
        "\n",
        "# Calculate TF-IDF\n",
        "vectorizer = TfidfVectorizer(max_features=250, ngram_range=(2,4))\n",
        "tfidf_matrix = vectorizer.fit_transform(df['text'])\n",
        "\n",
        "# Convert to DataFrame\n",
        "tfidf_df = pd.DataFrame(\n",
        "    tfidf_matrix.toarray(),\n",
        "    columns=vectorizer.get_feature_names_out()\n",
        ")\n",
        "\n",
        "# Save to CSV\n",
        "tfidf_df.to_csv('tfidf.csv', index=False)"
      ],
      "metadata": {
        "id": "OajUDfdvLXuU"
      },
      "execution_count": 1,
      "outputs": []
    }
  ]
}