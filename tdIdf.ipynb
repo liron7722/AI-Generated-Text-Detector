{
  "nbformat": 4,
  "nbformat_minor": 0,
  "metadata": {
    "colab": {
      "provenance": [],
      "authorship_tag": "ABX9TyOT5rIqOlHmYs8d3+sfYmib",
      "include_colab_link": true
    },
    "kernelspec": {
      "name": "python3",
      "display_name": "Python 3"
    },
    "language_info": {
      "name": "python"
    }
  },
  "cells": [
    {
      "cell_type": "markdown",
      "metadata": {
        "id": "view-in-github",
        "colab_type": "text"
      },
      "source": [
        "<a href=\"https://colab.research.google.com/github/liron7722/AI-Generated-Text-Detector/blob/Production/tdIdf.ipynb\" target=\"_parent\"><img src=\"https://colab.research.google.com/assets/colab-badge.svg\" alt=\"Open In Colab\"/></a>"
      ]
    },
    {
      "cell_type": "code",
      "source": [
        "import pandas as pd\n",
        "from sklearn.feature_extraction.text import TfidfVectorizer\n",
        "\n",
        "# Load CSV\n",
        "df = pd.read_parquet('https://uc0e284730f43158ee5e619e0455.dl.dropboxusercontent.com/cd/0/get/Cf4mS7WoqjD3-uArgVka9U6LwUFh_eoXELldAsb1GTekMxTKbR8woydtUeoVjX6wWeMaek9Ml12WNce38pwmJKZFgwvcdQa2rKHUOQrYBATjP84x-3iTsNZ-zcmZ6OHxaq4PBztyCauNeOo7chm3zUL3DPs5pmzS2AnvcIZ9hmEl1w/file?_download_id=097132530465300138373562580450893265661661752061509651941569549605&_log_download_success=1#')\n",
        "\n",
        "\n",
        "# Calculate TF-IDF\n",
        "vectorizer = TfidfVectorizer()\n",
        "tfidf_matrix = vectorizer.fit_transform(df['text'])\n",
        "\n",
        "# Convert to DataFrame\n",
        "tfidf_df = pd.DataFrame(\n",
        "    tfidf_matrix.toarray(),\n",
        "    columns=vectorizer.get_feature_names_out()\n",
        ")\n",
        "\n",
        "# Save to CSV\n",
        "tfidf_df.to_csv('tfidf.csv', index=False)"
      ],
      "metadata": {
        "id": "OajUDfdvLXuU"
      },
      "execution_count": 1,
      "outputs": []
    }
  ]
}