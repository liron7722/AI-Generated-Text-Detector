{
  "nbformat": 4,
  "nbformat_minor": 0,
  "metadata": {
    "colab": {
      "provenance": [],
      "authorship_tag": "ABX9TyPEXDYWiwjGL8iem3811ESt",
      "include_colab_link": true
    },
    "kernelspec": {
      "name": "python3",
      "display_name": "Python 3"
    },
    "language_info": {
      "name": "python"
    }
  },
  "cells": [
    {
      "cell_type": "markdown",
      "metadata": {
        "id": "view-in-github",
        "colab_type": "text"
      },
      "source": [
        "<a href=\"https://colab.research.google.com/github/liron7722/AI-Generated-Text-Detector/blob/Production/tdIdf.ipynb\" target=\"_parent\"><img src=\"https://colab.research.google.com/assets/colab-badge.svg\" alt=\"Open In Colab\"/></a>"
      ]
    },
    {
      "cell_type": "code",
      "source": [
        "import os\n",
        "import pandas as pd\n",
        "\n",
        "# Load parameters from environment variables\n",
        "params = {\n",
        "    \"feature\": os.getenv(\"FEATURE\", \"tdidf\"),  # Default to \"tdidf\"\n",
        "    \"minGrams\": int(os.getenv(\"MIN_GRAMS\", 2)),  # Default to 2\n",
        "    \"maxGrams\": int(os.getenv(\"MAX_GRAMS\", 4)),  # Default to 4\n",
        "    \"maxFeatures\": int(os.getenv(\"maxFeatures\", 250)),  # Default to 250\n",
        "}\n",
        "\n",
        "# Use the parameters\n",
        "feature = params[\"feature\"]\n",
        "min_grams = params[\"minGrams\"]\n",
        "max_grams = params[\"maxGrams\"]\n",
        "max_features = params[\"maxFeatures\"]\n",
        "\n",
        "# Example: Print parameters to confirm\n",
        "print(f\"Feature: {feature}, MinGrams: {min_grams}, MaxGrams: {max_grams}, max_features: {max_features}\")\n",
        "\n",
        "# Load the data\n",
        "data = pd.read_csv(\"data.csv\")\n",
        "\n",
        "# Apply TF-IDF or BOW logic based on the `feature` parameter\n",
        "if feature == \"tdidf\":\n",
        "    from sklearn.feature_extraction.text import TfidfVectorizer\n",
        "    vectorizer = TfidfVectorizer(max_features=max_features, ngram_range=(min_grams, max_grams))\n",
        "    transformed_data = vectorizer.fit_transform(data['text'])\n",
        "elif feature == \"bow\":\n",
        "    from sklearn.feature_extraction.text import CountVectorizer\n",
        "    vectorizer = CountVectorizer(max_features=max_features, ngram_range=(min_grams, max_grams))\n",
        "    transformed_data = vectorizer.fit_transform(data['text'])\n",
        "\n",
        "# Save the output\n",
        "output_file = f\"{feature}.csv\"\n",
        "pd.DataFrame(transformed_data.toarray(), columns=vectorizer.get_feature_names_out()).to_csv(output_file, index=False)"
      ],
      "metadata": {
        "id": "al1Catbum1tr"
      },
      "execution_count": null,
      "outputs": []
    }
  ]
}