{
  "nbformat": 4,
  "nbformat_minor": 0,
  "metadata": {
    "colab": {
      "provenance": [],
      "authorship_tag": "ABX9TyO/+gzKOWdmtAEw1hnilb1X",
      "include_colab_link": true
    },
    "kernelspec": {
      "name": "python3",
      "display_name": "Python 3"
    },
    "language_info": {
      "name": "python"
    }
  },
  "cells": [
    {
      "cell_type": "markdown",
      "metadata": {
        "id": "view-in-github",
        "colab_type": "text"
      },
      "source": [
        "<a href=\"https://colab.research.google.com/github/liron7722/AI-Generated-Text-Detector/blob/Production/tdIdf.ipynb\" target=\"_parent\"><img src=\"https://colab.research.google.com/assets/colab-badge.svg\" alt=\"Open In Colab\"/></a>"
      ]
    },
    {
      "cell_type": "code",
      "source": [
        "import sys\n",
        "import pandas as pd\n",
        "from argparse import ArgumentParser\n",
        "\n",
        "# Set default parameters\n",
        "params = {\n",
        "    \"feature\": \"tdidf\",\n",
        "    \"minGrams\": 1,\n",
        "    \"maxGrams\": 2,\n",
        "}\n",
        "\n",
        "# Parse command-line arguments (if provided)\n",
        "if len(sys.argv) > 1:\n",
        "    parser = ArgumentParser()\n",
        "    parser.add_argument(\"--feature\", required=True, help=\"Feature type (tdidf or bow)\")\n",
        "    parser.add_argument(\"--minGrams\", type=int, required=True, help=\"Minimum n-gram size\")\n",
        "    parser.add_argument(\"--maxGrams\", type=int, required=True, help=\"Maximum n-gram size\")\n",
        "    parser.add_argument(\"--maxFeatures\", type=int, required=True, help=\"Maximum feature size\")\n",
        "    args = parser.parse_args()\n",
        "    params.update(vars(args))\n",
        "\n",
        "# Use the parameters\n",
        "feature = params[\"feature\"]\n",
        "min_grams = params[\"minGrams\"]\n",
        "max_grams = params[\"maxGrams\"]\n",
        "max_features = params[\"maxFeatures\"]\n",
        "\n",
        "# Example: Print parameters to confirm\n",
        "print(f\"Feature: {feature}, MinGrams: {min_grams}, MaxGrams: {max_grams}\")\n",
        "\n",
        "# Load the data\n",
        "data = pd.read_csv(\"data.csv\")\n",
        "\n",
        "# Apply TF-IDF or BOW logic based on the `feature` parameter\n",
        "if feature == \"tdidf\":\n",
        "    from sklearn.feature_extraction.text import TfidfVectorizer\n",
        "    vectorizer = TfidfVectorizer(max_features=max_features, ngram_range=(min_grams, max_grams))\n",
        "    transformed_data = vectorizer.fit_transform(data['text'])\n",
        "elif feature == \"bow\":\n",
        "    from sklearn.feature_extraction.text import CountVectorizer\n",
        "    vectorizer = CountVectorizer(max_features=max_features, ngram_range=(min_grams, max_grams))\n",
        "    transformed_data = vectorizer.fit_transform(data['text'])\n",
        "\n",
        "# Save the output\n",
        "output_file = f\"{feature}.csv\"\n",
        "pd.DataFrame(transformed_data.toarray(), columns=vectorizer.get_feature_names_out()).to_csv(output_file, index=False)"
      ],
      "metadata": {
        "id": "al1Catbum1tr"
      },
      "execution_count": null,
      "outputs": []
    }
  ]
}